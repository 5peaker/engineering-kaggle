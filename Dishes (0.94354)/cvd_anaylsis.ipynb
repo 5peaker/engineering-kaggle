{
 "cells": [
  {
   "cell_type": "markdown",
   "metadata": {},
   "source": [
    "# Cleaned Dishes vs. Dirty Dishes\n",
    "#### based on Kaggle Competiton (platesv2)\n",
    "\n",
    "### Jinseong Choi, Sepetember 3rd, 2024"
   ]
  },
  {
   "cell_type": "markdown",
   "metadata": {},
   "source": [
    "### Abstract\n"
   ]
  },
  {
   "cell_type": "markdown",
   "metadata": {},
   "source": [
    "While it is true openCV is a basic method on processing images and videos, <br>\n",
    "it is not wise to use the module solely when facing complicated problems, such as case when a big dataset is expected. <br>\n",
    "A Kaggle competition, without a doubt, is good example of these cases."
   ]
  },
  {
   "cell_type": "markdown",
   "metadata": {},
   "source": []
  }
 ],
 "metadata": {
  "language_info": {
   "name": "python"
  }
 },
 "nbformat": 4,
 "nbformat_minor": 2
}
