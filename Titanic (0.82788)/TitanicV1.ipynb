{
 "cells": [
  {
   "cell_type": "code",
   "execution_count": 1,
   "metadata": {},
   "outputs": [],
   "source": [
    "import numpy as np\n",
    "import pandas as pd\n",
    "import matplotlib.pyplot as plt\n",
    "import seaborn as sns\n",
    "import warnings"
   ]
  },
  {
   "cell_type": "markdown",
   "metadata": {},
   "source": [
    "## Solving Titanic Problem via Random Forest "
   ]
  },
  {
   "cell_type": "code",
   "execution_count": 2,
   "metadata": {},
   "outputs": [],
   "source": [
    "train = pd.read_csv('train.csv')\n",
    "test = pd.read_csv('test.csv')\n",
    "\n",
    "warnings.filterwarnings(\"ignore\")"
   ]
  },
  {
   "cell_type": "code",
   "execution_count": 3,
   "metadata": {},
   "outputs": [
    {
     "name": "stdout",
     "output_type": "stream",
     "text": [
      "null values per column in train data\n",
      "PassengerId      0\n",
      "Survived         0\n",
      "Pclass           0\n",
      "Name             0\n",
      "Sex              0\n",
      "Age            177\n",
      "SibSp            0\n",
      "Parch            0\n",
      "Ticket           0\n",
      "Fare             0\n",
      "Cabin          687\n",
      "Embarked         2\n",
      "dtype: int64\n"
     ]
    }
   ],
   "source": [
    "print(\"null values per column in train data\")\n",
    "print(train.isnull().sum())"
   ]
  },
  {
   "cell_type": "code",
   "execution_count": 4,
   "metadata": {},
   "outputs": [
    {
     "name": "stdout",
     "output_type": "stream",
     "text": [
      "Survival rate by Gender: \n",
      "Sex\n",
      "female    0.742038\n",
      "male      0.188908\n",
      "Name: Survived, dtype: float64\n",
      "\n",
      "\n"
     ]
    }
   ],
   "source": [
    "survival_by_gender = train.groupby(\"Sex\")['Survived'].mean()\n",
    "print(\"Survival rate by Gender: \")\n",
    "print(survival_by_gender)\n",
    "print(\"\\n\")"
   ]
  },
  {
   "cell_type": "code",
   "execution_count": 5,
   "metadata": {},
   "outputs": [],
   "source": [
    "train.drop('Cabin', axis=1, inplace=True)\n",
    "train['Age'].fillna(train['Age'].median(), inplace=True)\n",
    "train['Embarked'].fillna(train['Embarked'].mode()[0], inplace=True)"
   ]
  },
  {
   "cell_type": "markdown",
   "metadata": {},
   "source": [
    "### 데이터 전처리와 기능 분석"
   ]
  },
  {
   "cell_type": "code",
   "execution_count": 13,
   "metadata": {},
   "outputs": [],
   "source": [
    "from sklearn.impute import KNNImputer\n",
    "from sklearn.preprocessing import StandardScaler\n",
    "\n",
    "def prep(df):\n",
    "    df['Family'] = df['Parch'] + df['SibSp'] + 1\n",
    "    \n",
    "    # 이름 추출 \n",
    "    df['Title'] = df['Name'].str.extract(' ([A-Za-z]+)\\.', expand=False)\n",
    "    df['Title'] = df['Title'].replace(['Lady', 'Countess', 'Capt', 'Col', 'Don', \n",
    "                                       'Dr', 'Major', 'Rev', 'Sir', 'Jonkheer', 'Dona'], 'Rare')\n",
    "    df['Title'] = df['Title'].replace('Mlle', 'Miss')\n",
    "    df['Title'] = df['Title'].replace('Ms', 'Miss')\n",
    "    df['Title'] = df['Title'].replace('Mme', 'Mrs')\n",
    "\n",
    "    # Embarked 결측치 최빈값으로 대체 \n",
    "    df['Embarked'].fillna(df['Embarked'].mode()[0], inplace=True)\n",
    "\n",
    "    # Fare에서 결측치 중앙값으로 대체\n",
    "    df['Fare'].fillna(df['Fare'].median(), inplace=True)\n",
    "\n",
    "    df['Very Low'] = (df['Fare'] <= 4)\n",
    "    df['Low'] = (df['Fare'] > 4) & (df['Fare'] <= 15)\n",
    "    df['Moderate'] = (df['Fare'] > 15) & (df['Fare'] <= 25)\n",
    "    df['Medium'] = (df['Fare'] > 25) & (df['Fare'] <= 50)\n",
    "    df['High'] = (df['Fare'] > 50) & (df['Fare'] <= 100)\n",
    "    df['Very High'] = (df['Fare'] > 100) & (df['Fare'] <= 250)\n",
    "    df['Luxury'] = (df['Fare'] > 250)\n",
    "\n",
    "    # Cabin 결측치 N으로 대체\n",
    "    df['Cabin'] = df['Cabin'].fillna('N').map(lambda x: x[0])\n",
    "    \n",
    "    # age 결측치 KNNImputer 사용해 대체\n",
    "    age_imputer = KNNImputer(n_neighbors=5)\n",
    "    df['Age'] = age_imputer.fit_transform(df[['Age']])\n",
    "    \n",
    "    df['Baby'] = (df['Age'] <= 5)\n",
    "    df['Child'] = (df['Age'] > 5) & (df['Age'] <= 14)\n",
    "    df['Teenager'] = (df['Age'] > 14) & (df['Age'] <= 18)\n",
    "    df['Adult'] = (df['Age'] > 18) & (df['Age'] <= 30)\n",
    "    df['OldAdult'] = (df['Age'] > 30) & (df['Age'] <= 60)\n",
    "    df['Old'] = (df['Age'] > 60)\n",
    "    df['Alone'] = df['Family'] == 0\n",
    "    \n",
    "    # 원핫 인코딩\n",
    "    df = pd.get_dummies(df, columns=['Sex', 'Embarked', 'Title', 'Cabin'], drop_first=True)\n",
    "    for l in ['A', 'B', 'C', 'D', 'E', 'F', 'G', 'T']:\n",
    "        col = f'Cabin_{l}'\n",
    "        if col not in df.columns:\n",
    "            df[col] = pd.Series([False]*df.shape[0])\n",
    "            df[col].fillna(False, inplace=True)\n",
    "    \n",
    "    cols = ['Age', 'Fare', 'Family', 'Parch', 'SibSp', 'Alone', 'Pclass', 'Very Low', 'Low', 'Moderate', 'Medium',\n",
    "       'High', 'Very High', 'Luxury', 'Baby', 'Child', 'Teenager',\n",
    "       'Adult', 'OldAdult', 'Old', 'Sex_male',\n",
    "       'Embarked_Q', 'Embarked_S', 'Title_Miss', 'Title_Mr', 'Title_Mrs',\n",
    "       'Title_Rare', 'Cabin_A', 'Cabin_B', 'Cabin_C', 'Cabin_D', 'Cabin_E', 'Cabin_F',\n",
    "       'Cabin_G', 'Cabin_T']\n",
    "    # Cabin_N은 유효치로 고려하지 않음\n",
    "    df2 = df[cols].copy()\n",
    "    \n",
    "    # 수치 데이터를 표준화\n",
    "    numeric_features = ['Age', 'Fare', 'Parch', 'SibSp']\n",
    "    scaler = StandardScaler()\n",
    "    df2[numeric_features] = scaler.fit_transform(df2[numeric_features])\n",
    "    \n",
    "    return df2"
   ]
  },
  {
   "cell_type": "markdown",
   "metadata": {},
   "source": [
    "### 모델링"
   ]
  },
  {
   "cell_type": "code",
   "execution_count": 14,
   "metadata": {},
   "outputs": [
    {
     "data": {
      "text/html": [
       "<div>\n",
       "<style scoped>\n",
       "    .dataframe tbody tr th:only-of-type {\n",
       "        vertical-align: middle;\n",
       "    }\n",
       "\n",
       "    .dataframe tbody tr th {\n",
       "        vertical-align: top;\n",
       "    }\n",
       "\n",
       "    .dataframe thead th {\n",
       "        text-align: right;\n",
       "    }\n",
       "</style>\n",
       "<table border=\"1\" class=\"dataframe\">\n",
       "  <thead>\n",
       "    <tr style=\"text-align: right;\">\n",
       "      <th></th>\n",
       "      <th>Classifier</th>\n",
       "      <th>Test Accuracy</th>\n",
       "    </tr>\n",
       "  </thead>\n",
       "  <tbody>\n",
       "    <tr>\n",
       "      <th>0</th>\n",
       "      <td>Logistic Regression</td>\n",
       "      <td>0.810056</td>\n",
       "    </tr>\n",
       "    <tr>\n",
       "      <th>1</th>\n",
       "      <td>SVM</td>\n",
       "      <td>0.815642</td>\n",
       "    </tr>\n",
       "    <tr>\n",
       "      <th>2</th>\n",
       "      <td>KNN</td>\n",
       "      <td>0.804469</td>\n",
       "    </tr>\n",
       "    <tr>\n",
       "      <th>3</th>\n",
       "      <td>Random Forest</td>\n",
       "      <td>0.787709</td>\n",
       "    </tr>\n",
       "    <tr>\n",
       "      <th>4</th>\n",
       "      <td>Gradient Boosting</td>\n",
       "      <td>0.804469</td>\n",
       "    </tr>\n",
       "  </tbody>\n",
       "</table>\n",
       "</div>"
      ],
      "text/plain": [
       "            Classifier  Test Accuracy\n",
       "0  Logistic Regression       0.810056\n",
       "1                  SVM       0.815642\n",
       "2                  KNN       0.804469\n",
       "3        Random Forest       0.787709\n",
       "4    Gradient Boosting       0.804469"
      ]
     },
     "execution_count": 14,
     "metadata": {},
     "output_type": "execute_result"
    }
   ],
   "source": [
    "from sklearn.model_selection import train_test_split\n",
    "from sklearn.linear_model import LogisticRegression\n",
    "from sklearn.svm import SVC\n",
    "from sklearn.neighbors import KNeighborsClassifier\n",
    "from sklearn.ensemble import RandomForestClassifier, GradientBoostingClassifier\n",
    "from sklearn.metrics import accuracy_score\n",
    "\n",
    "train = pd.read_csv('train.csv')\n",
    "train_processed = prep(train)\n",
    "\n",
    "X = train_processed\n",
    "y = train['Survived']\n",
    "\n",
    "X_train, X_test, y_train, y_test = train_test_split(X, y, test_size=0.2)\n",
    "classifiers = {\n",
    "    'Logistic Regression': LogisticRegression(),\n",
    "    'SVM': SVC(),\n",
    "    'KNN': KNeighborsClassifier(),\n",
    "    'Random Forest': RandomForestClassifier(),\n",
    "    'Gradient Boosting': GradientBoostingClassifier()\n",
    "}\n",
    "\n",
    "results = {'Classifier': [], 'Test Accuracy': []}\n",
    "\n",
    "for clf_name, clf in classifiers.items():\n",
    "    clf.fit(X_train, y_train) \n",
    "    y_pred = clf.predict(X_test)\n",
    "    accuracy = accuracy_score(y_test, y_pred)\n",
    "    results['Classifier'].append(clf_name)\n",
    "    results['Test Accuracy'].append(accuracy)\n",
    "\n",
    "results_df = pd.DataFrame(results)\n",
    "results_df"
   ]
  },
  {
   "cell_type": "markdown",
   "metadata": {},
   "source": [
    "### 분석"
   ]
  },
  {
   "cell_type": "code",
   "execution_count": 17,
   "metadata": {},
   "outputs": [
    {
     "name": "stdout",
     "output_type": "stream",
     "text": [
      "Fitting 5 folds for each of 247500 candidates, totalling 1237500 fits\n",
      "Best Parameters found:\n",
      "{'ccp_alpha': 4e-05, 'class_weight': {0: 1, 1: 1.4}, 'criterion': 'gini', 'max_depth': 9, 'max_features': 'sqrt', 'max_leaf_nodes': 80, 'min_samples_leaf': 1, 'min_samples_split': 8, 'random_state': 0, 'splitter': 'random'}\n",
      "Best Accuracy Score:\n",
      "0.8328868314783808\n"
     ]
    },
    {
     "data": {
      "text/plain": [
       "0.7877094972067039"
      ]
     },
     "execution_count": 17,
     "metadata": {},
     "output_type": "execute_result"
    }
   ],
   "source": [
    "import numpy as np\n",
    "from sklearn.tree import DecisionTreeClassifier\n",
    "from sklearn.model_selection import GridSearchCV\n",
    "\n",
    "param_grid = {\n",
    "    'criterion': ['gini', 'entropy'],\n",
    "    'splitter': ['best', 'random'],\n",
    "    'max_depth': range(8, 13),\n",
    "    'min_samples_split': range(6, 11),\n",
    "    'min_samples_leaf': range(1, 4),\n",
    "    'max_features': ['sqrt', 'log2', None],\n",
    "    'random_state': [0],\n",
    "    'max_leaf_nodes': range(80, 101, 2),\n",
    "    'class_weight': [{0: 1, 1: w} for w in np.linspace(1.3, 1.7, 5)],\n",
    "    'ccp_alpha': np.linspace(4e-05, 6e-05, 5)\n",
    "}\n",
    "\n",
    "dt_classifier = DecisionTreeClassifier()\n",
    "grid_search = GridSearchCV(estimator=dt_classifier, param_grid=param_grid, cv=5, scoring='accuracy', verbose=1, n_jobs=-1)\n",
    "grid_search.fit(X_train, y_train)\n",
    "\n",
    "print(\"Best Parameters found:\")\n",
    "print(grid_search.best_params_)\n",
    "print(\"Best Accuracy Score:\")\n",
    "print(grid_search.best_score_)\n",
    "\n",
    "y_pred = grid_search.best_estimator_.predict(X_test)\n",
    "    \n",
    "accuracy = accuracy_score(y_test, y_pred)\n",
    "accuracy"
   ]
  },
  {
   "cell_type": "code",
   "execution_count": 15,
   "metadata": {},
   "outputs": [],
   "source": [
    "base_params = {\n",
    "    'ccp_alpha': 4e-05,\n",
    "    'class_weight': {0: 1, 1: 1.5},\n",
    "    'criterion': 'gini',\n",
    "    'max_depth': 9,\n",
    "    'max_features': 'sqrt',\n",
    "    'max_leaf_nodes': 80,\n",
    "    'min_samples_leaf': 1,\n",
    "    'min_samples_split': 8,\n",
    "    'random_state': 0,\n",
    "    'splitter': 'random'\n",
    "}"
   ]
  },
  {
   "cell_type": "markdown",
   "metadata": {},
   "source": [
    "### RandomForestClassifier"
   ]
  },
  {
   "cell_type": "code",
   "execution_count": 20,
   "metadata": {},
   "outputs": [
    {
     "name": "stdout",
     "output_type": "stream",
     "text": [
      "Fitting 5 folds for each of 21 candidates, totalling 105 fits\n",
      "RandomForestClassifier Best Parameters found:\n",
      "{'max_features': None, 'n_estimators': 60}\n",
      "RandomForestClassifier Best Accuracy Score:\n",
      "0.832867132867133\n"
     ]
    },
    {
     "data": {
      "text/plain": [
       "0.8268156424581006"
      ]
     },
     "execution_count": 20,
     "metadata": {},
     "output_type": "execute_result"
    }
   ],
   "source": [
    "from sklearn.ensemble import RandomForestClassifier\n",
    "\n",
    "param_grid_rf = {\n",
    "    'n_estimators': range(60, 361, 50),\n",
    "    'max_features': ['sqrt', 'log2', None]\n",
    "}\n",
    "\n",
    "rf_model = RandomForestClassifier(\n",
    "    criterion=base_params['criterion'],\n",
    "    max_depth=base_params['max_depth'],\n",
    "    min_samples_split=base_params['min_samples_split'],\n",
    "    min_samples_leaf=base_params['min_samples_leaf'],\n",
    "    max_leaf_nodes=base_params['max_leaf_nodes'],\n",
    "    class_weight=base_params['class_weight'],\n",
    "    ccp_alpha=base_params['ccp_alpha'],\n",
    "    random_state=1212\n",
    ")\n",
    "\n",
    "grid_search_rf = GridSearchCV(estimator=rf_model, param_grid=param_grid_rf, cv=5, scoring='accuracy', verbose=1, n_jobs=-1)\n",
    "grid_search_rf.fit(X_train, y_train)\n",
    "\n",
    "# 최적 패러미터 출력 \n",
    "print(\"RandomForestClassifier Best Parameters found:\")\n",
    "print(grid_search_rf.best_params_)\n",
    "print(\"RandomForestClassifier Best Accuracy Score:\")\n",
    "print(grid_search_rf.best_score_)\n",
    "\n",
    "y_pred = grid_search_rf.best_estimator_.predict(X_test)\n",
    "\n",
    "accuracy = accuracy_score(y_test, y_pred)\n",
    "accuracy"
   ]
  },
  {
   "cell_type": "markdown",
   "metadata": {},
   "source": [
    "### Final Model with Random Forest"
   ]
  },
  {
   "cell_type": "code",
   "execution_count": 27,
   "metadata": {},
   "outputs": [
    {
     "data": {
      "text/plain": [
       "0.88268156424581"
      ]
     },
     "execution_count": 27,
     "metadata": {},
     "output_type": "execute_result"
    }
   ],
   "source": [
    "rf_model = RandomForestClassifier(\n",
    "    n_estimators=60,\n",
    "    max_depth=12,\n",
    "    max_features=None,\n",
    "    min_samples_split=8,\n",
    "    min_samples_leaf=1,\n",
    "    random_state=900,\n",
    "    bootstrap=True\n",
    ") \n",
    "\n",
    "rf_model.fit(X_train, y_train)\n",
    "y_pred = rf_model.predict(X_test)\n",
    "accuracy = accuracy_score(y_test, y_pred)\n",
    "accuracy"
   ]
  },
  {
   "cell_type": "markdown",
   "metadata": {},
   "source": [
    "### 최종 모델과 함께 데이터 학습 진행"
   ]
  },
  {
   "cell_type": "code",
   "execution_count": 28,
   "metadata": {},
   "outputs": [],
   "source": [
    "train = pd.read_csv('train.csv')\n",
    "train_processed = prep(train)\n",
    "\n",
    "X = train_processed\n",
    "y = train['Survived']\n",
    "\n",
    "test = pd.read_csv('test.csv')\n",
    "test_processed = prep(test)\n",
    "\n",
    "ids = test['PassengerId']\n",
    "X_t = test_processed"
   ]
  },
  {
   "cell_type": "code",
   "execution_count": null,
   "metadata": {},
   "outputs": [],
   "source": [
    "rf_model.fit(X, y)\n",
    "predict = rf_model.predict(X_t)\n",
    "ids = test['PassengerId']\n",
    "\n",
    "PredictionDF = pd.DataFrame({'PassengerId' : ids, 'Survived' : predict})\n",
    "PredictionDF.to_csv('bg_submissions.csv', index=False)"
   ]
  }
 ],
 "metadata": {
  "kernelspec": {
   "display_name": "Walter",
   "language": "python",
   "name": "walter"
  },
  "language_info": {
   "codemirror_mode": {
    "name": "ipython",
    "version": 3
   },
   "file_extension": ".py",
   "mimetype": "text/x-python",
   "name": "python",
   "nbconvert_exporter": "python",
   "pygments_lexer": "ipython3",
   "version": "3.10.13"
  }
 },
 "nbformat": 4,
 "nbformat_minor": 2
}
